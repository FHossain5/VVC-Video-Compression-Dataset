{
 "cells": [
  {
   "cell_type": "markdown",
   "id": "ac6996ea",
   "metadata": {},
   "source": [
    "## Create the text file"
   ]
  },
  {
   "cell_type": "code",
   "execution_count": null,
   "id": "f41a8d1b",
   "metadata": {},
   "outputs": [],
   "source": [
    "import os\n",
    "\n",
    "# Define the path to your folder containing images and the output file path\n",
    "image_folder = r'./source_folder'\n",
    "output_txt_file = r'./destination_folder'\n",
    "\n",
    "# Get all image files from the directory, ensuring they are in the correct order\n",
    "images = [img for img in os.listdir(image_folder) if img.endswith(\".png\")]\n",
    "images.sort()\n",
    "\n",
    "# Ensure the images list is not empty\n",
    "if len(images) == 0:\n",
    "    raise ValueError(\"No PNG files found in the directory.\")\n",
    "\n",
    "# Create a text file to list all images in the correct ffmpeg format\n",
    "with open(output_txt_file, \"w\") as f:\n",
    "    for img in images:\n",
    "        img_path = os.path.join(image_folder, img).replace(\"\\\\\", \"/\")\n",
    "        f.write(f\"file '{img_path}'\\n\")\n",
    "\n",
    "print(f\"Formatted file list created at {output_txt_file}\")\n"
   ]
  }
 ],
 "metadata": {
  "kernelspec": {
   "display_name": "Python 3 (ipykernel)",
   "language": "python",
   "name": "python3"
  },
  "language_info": {
   "codemirror_mode": {
    "name": "ipython",
    "version": 3
   },
   "file_extension": ".py",
   "mimetype": "text/x-python",
   "name": "python",
   "nbconvert_exporter": "python",
   "pygments_lexer": "ipython3",
   "version": "3.11.4"
  }
 },
 "nbformat": 4,
 "nbformat_minor": 5
}
