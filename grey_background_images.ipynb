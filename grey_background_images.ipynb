{
 "cells": [
  {
   "cell_type": "markdown",
   "id": "7861a09a",
   "metadata": {},
   "source": [
    "# Step 1: Make the images background transparent"
   ]
  },
  {
   "cell_type": "code",
   "execution_count": null,
   "id": "b7b559c7",
   "metadata": {},
   "outputs": [],
   "source": [
    "from PIL import Image\n",
    "import os\n",
    "\n",
    "# Paths\n",
    "source_folder = \"./source_folder\"\n",
    "destination_folder = \"./destination_folder\"\n",
    "\n",
    "# Create the destination folder if it doesn't exist\n",
    "os.makedirs(destination_folder, exist_ok=True)\n",
    "\n",
    "# Iterate over all files in the source folder\n",
    "for filename in os.listdir(source_folder):\n",
    "    if filename.endswith(\".png\"):\n",
    "        img_path = os.path.join(source_folder, filename)\n",
    "        img = Image.open(img_path).convert(\"RGBA\")  # Ensure image is in RGBA mode\n",
    "        \n",
    "        # Get image data\n",
    "        datas = img.getdata()\n",
    "        new_data = []\n",
    "        \n",
    "        for item in datas:\n",
    "            if item[0] == 0 and item[1] == 0 and item[2] == 0:  # Black color\n",
    "                new_data.append((255, 255, 255, 0))  # Make black pixels transparent\n",
    "            else:\n",
    "                new_data.append(item)\n",
    "        \n",
    "        # Update image data with new transparent data\n",
    "        img.putdata(new_data)\n",
    "        \n",
    "        # Save the image with a transparent background\n",
    "        img.save(os.path.join(destination_folder, filename))\n",
    "\n",
    "print(\"All images have been processed and saved in the destination folder.\")"
   ]
  },
  {
   "cell_type": "markdown",
   "id": "dda663f0",
   "metadata": {},
   "source": [
    "# Step 2: Add the background color to transparent images"
   ]
  },
  {
   "cell_type": "code",
   "execution_count": null,
   "id": "d1573adb",
   "metadata": {},
   "outputs": [],
   "source": [
    "import cv2\n",
    "import os\n",
    "import numpy as np\n",
    "\n",
    "# Define paths\n",
    "input_images_path = r\"./source_folder\"\n",
    "output_images_path = r\"./destination_folder\"\n",
    "\n",
    "# Create output directory if it doesn't exist\n",
    "os.makedirs(output_images_path, exist_ok=True)\n",
    "\n",
    "# Function to create a solid grey background\n",
    "def create_solid_grey_background(width, height):\n",
    "    return np.full((height, width, 3), (128, 128, 128), dtype=np.uint8)\n",
    "\n",
    "# Process each transparent image\n",
    "for image_file in os.listdir(input_images_path):\n",
    "    if image_file.endswith('.png'):\n",
    "        img_path = os.path.join(input_images_path, image_file)\n",
    "        img = cv2.imread(img_path, cv2.IMREAD_UNCHANGED)\n",
    "\n",
    "        if img is None:\n",
    "            raise FileNotFoundError(f\"Image not found: {img_path}\")\n",
    "\n",
    "        # Separate the alpha channel if it exists\n",
    "        if img.shape[2] == 4:\n",
    "            alpha_channel = img[:, :, 3]\n",
    "            img_rgb = img[:, :, :3]\n",
    "        else:\n",
    "            raise ValueError(\"Image does not have a transparent background\")\n",
    "\n",
    "        # Create the grey background with the same size as the image\n",
    "        height, width = img_rgb.shape[:2]\n",
    "        grey_background = create_solid_grey_background(width, height)\n",
    "\n",
    "        # Create a mask from the alpha channel\n",
    "        mask = alpha_channel / 255.0\n",
    "\n",
    "        # Composite the image onto the grey background using the alpha mask\n",
    "        for c in range(3):\n",
    "            grey_background[:, :, c] = (mask * img_rgb[:, :, c] + (1 - mask) * grey_background[:, :, c])\n",
    "\n",
    "        # Save the result\n",
    "        output_path = os.path.join(output_images_path, image_file)\n",
    "        cv2.imwrite(output_path, grey_background)\n",
    "\n",
    "print(\"Images with grey background created successfully.\")"
   ]
  }
 ],
 "metadata": {
  "kernelspec": {
   "display_name": "Python 3 (ipykernel)",
   "language": "python",
   "name": "python3"
  },
  "language_info": {
   "codemirror_mode": {
    "name": "ipython",
    "version": 3
   },
   "file_extension": ".py",
   "mimetype": "text/x-python",
   "name": "python",
   "nbconvert_exporter": "python",
   "pygments_lexer": "ipython3",
   "version": "3.11.4"
  }
 },
 "nbformat": 4,
 "nbformat_minor": 5
}
